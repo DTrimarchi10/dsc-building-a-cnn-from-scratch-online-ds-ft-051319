{
 "cells": [
  {
   "cell_type": "markdown",
   "metadata": {},
   "source": [
    "# Building a CNN from Scratch - Lab\n",
    "\n",
    "## Introduction\n",
    "\n",
    "Now that you have background knowledge regarding how CNNs work and how to implement them via Keras, its time to practice those skills a little more independently in order to build a CNN on your own to solve a image recognition problem. In this lab, you'll practice building an image classifier from start to finish using a CNN.  \n",
    "\n",
    "## Objectives\n",
    "\n",
    "You will be able to:\n",
    "* Transform images into tensors\n",
    "* Build a CNN model for image recognition"
   ]
  },
  {
   "cell_type": "markdown",
   "metadata": {},
   "source": [
    "## Loading the Images\n",
    "\n",
    "The data for this lab concerns classifying lung xray images for pneumonia. The original dataset is from kaggle. We have downsampled this dataset in order to reduce training time for you when you design and fit your model to the data. It is anticipated that this process will take approximately 1 hour to run on a standard machine, although times will vary depending on your particular computer and set up. At the end of this lab, you are welcome to try training on the complete dataset and observe the impact on the model's overall accuracy. \n",
    "\n",
    "You can find the initial downsampled dataset in a subdirectory, **chest_xray**, of this repository."
   ]
  },
  {
   "cell_type": "code",
   "execution_count": 14,
   "metadata": {},
   "outputs": [],
   "source": [
    "import os\n",
    "from keras.preprocessing.image import ImageDataGenerator\n",
    "import datetime\n",
    "\n",
    "import matplotlib.pyplot as plt\n",
    "%matplotlib inline "
   ]
  },
  {
   "cell_type": "code",
   "execution_count": 4,
   "metadata": {},
   "outputs": [],
   "source": [
    "#Your code here; load the images; be sure to also preprocess these into tensors.\n",
    "data_dir = \"chest_xray_downsampled\"\n",
    "test_data_dir = os.path.join(data_dir, 'test')\n",
    "val_data_dir = os.path.join(data_dir, 'val')\n",
    "train_data_dir = os.path.join(data_dir, 'train')"
   ]
  },
  {
   "cell_type": "code",
   "execution_count": 5,
   "metadata": {},
   "outputs": [],
   "source": [
    "# All images will be rescaled by 1./255\n",
    "train_datagen = ImageDataGenerator(rescale=1./255)\n",
    "test_datagen = ImageDataGenerator(rescale=1./255)\n",
    "val_datagen = ImageDataGenerator(rescale=1./255)"
   ]
  },
  {
   "cell_type": "code",
   "execution_count": 6,
   "metadata": {},
   "outputs": [
    {
     "name": "stdout",
     "output_type": "stream",
     "text": [
      "Found 1738 images belonging to 2 classes.\n",
      "Found 208 images belonging to 2 classes.\n",
      "Found 4 images belonging to 2 classes.\n"
     ]
    }
   ],
   "source": [
    "#Your code here; load the images; be sure to also preprocess these into tensors.\n",
    "train_generator = train_datagen.flow_from_directory(\n",
    "        # This is the target directory\n",
    "        train_data_dir,\n",
    "        # All images will be resized to 150x150\n",
    "        target_size=(150, 150),\n",
    "        batch_size=20,\n",
    "        # Since we use binary_crossentropy loss, we need binary labels\n",
    "        class_mode='binary')\n",
    "\n",
    "test_generator = test_datagen.flow_from_directory(\n",
    "        test_data_dir,\n",
    "        target_size=(150, 150),\n",
    "        batch_size=20,\n",
    "        class_mode='binary')\n",
    "\n",
    "val_generator = val_datagen.flow_from_directory(\n",
    "        val_data_dir,\n",
    "        target_size=(150, 150),\n",
    "        batch_size=20,\n",
    "        class_mode='binary')"
   ]
  },
  {
   "cell_type": "markdown",
   "metadata": {},
   "source": [
    "## Designing the Model\n",
    "\n",
    "Now it's time to design your CNN! Remember a few things when doing this: \n",
    "* You should alternate convolutional and pooling layers\n",
    "* You should have later layers have a larger number of parameters in order to detect more abstract patterns\n",
    "* Add some final dense layers to add a classifier to the convolutional base"
   ]
  },
  {
   "cell_type": "code",
   "execution_count": 7,
   "metadata": {},
   "outputs": [],
   "source": [
    "from keras import layers\n",
    "from keras import models\n",
    "from keras import optimizers"
   ]
  },
  {
   "cell_type": "code",
   "execution_count": 8,
   "metadata": {},
   "outputs": [],
   "source": [
    "#Your code here; design and compile the model\n",
    "model = models.Sequential()\n",
    "model.add(layers.Conv2D(32, (3, 3), activation='relu',\n",
    "                        input_shape=(150, 150, 3)))\n",
    "model.add(layers.MaxPooling2D((2, 2)))\n",
    "model.add(layers.Conv2D(64, (3, 3), activation='relu'))\n",
    "model.add(layers.MaxPooling2D((2, 2)))\n",
    "model.add(layers.Conv2D(128, (3, 3), activation='relu'))\n",
    "model.add(layers.MaxPooling2D((2, 2)))\n",
    "model.add(layers.Conv2D(128, (3, 3), activation='relu'))\n",
    "model.add(layers.MaxPooling2D((2, 2)))\n",
    "model.add(layers.Flatten())\n",
    "model.add(layers.Dense(512, activation='relu'))\n",
    "model.add(layers.Dense(1, activation='sigmoid'))"
   ]
  },
  {
   "cell_type": "code",
   "execution_count": 9,
   "metadata": {},
   "outputs": [],
   "source": [
    "model.compile(loss='binary_crossentropy',\n",
    "              optimizer=optimizers.RMSprop(lr=1e-4),\n",
    "              metrics=['acc'])"
   ]
  },
  {
   "cell_type": "markdown",
   "metadata": {},
   "source": [
    "## Training and Evaluating the Model\n",
    "\n",
    "Remember that training deep networks is resource intensive: depending on the size of the data, even a CNN with 3-4 successive convolutional and pooling layers is apt to take a hours to train on a high end laptop. Using 30 epochs and 8 layers (alternating between convolutional and pooling), our model took about 40 minutes to run on a year old macbook pro.\n",
    "\n",
    "\n",
    "If you are concerned with runtime, you may want to set your model to run the training epochs overnight.  \n",
    "\n",
    "**If you are going to run this process overnight, be sure to also script code for the following questions concerning data augmentation. Check your code twice (or more) and then set the notebook to run all, or something equivalent to have them train overnight.**"
   ]
  },
  {
   "cell_type": "code",
   "execution_count": 10,
   "metadata": {},
   "outputs": [],
   "source": [
    "original_start = datetime.datetime.now()\n",
    "start = datetime.datetime.now()"
   ]
  },
  {
   "cell_type": "code",
   "execution_count": 18,
   "metadata": {},
   "outputs": [
    {
     "name": "stdout",
     "output_type": "stream",
     "text": [
      "Epoch 1/30\n",
      "100/100 [==============================] - 97s 972ms/step - loss: 0.3063 - acc: 0.8643 - val_loss: 1.0490 - val_acc: 0.7500\n",
      "Epoch 2/30\n",
      "100/100 [==============================] - 97s 972ms/step - loss: 0.1862 - acc: 0.9280 - val_loss: 1.5495 - val_acc: 0.5000\n",
      "Epoch 3/30\n",
      "100/100 [==============================] - 96s 961ms/step - loss: 0.1451 - acc: 0.9479 - val_loss: 1.5844 - val_acc: 0.5000\n",
      "Epoch 4/30\n",
      "100/100 [==============================] - 93s 934ms/step - loss: 0.1356 - acc: 0.9491 - val_loss: 1.9848 - val_acc: 0.5000\n",
      "Epoch 5/30\n",
      "100/100 [==============================] - 97s 972ms/step - loss: 0.1212 - acc: 0.9510 - val_loss: 1.5514 - val_acc: 0.7500\n",
      "Epoch 6/30\n",
      "100/100 [==============================] - 94s 938ms/step - loss: 0.0929 - acc: 0.9625 - val_loss: 2.1692 - val_acc: 0.5000\n",
      "Epoch 7/30\n",
      "100/100 [==============================] - 99s 992ms/step - loss: 0.0926 - acc: 0.9625 - val_loss: 1.4233 - val_acc: 0.5000\n",
      "Epoch 8/30\n",
      "100/100 [==============================] - 97s 969ms/step - loss: 0.0775 - acc: 0.9698 - val_loss: 3.2031 - val_acc: 0.5000\n",
      "Epoch 9/30\n",
      "100/100 [==============================] - 102s 1s/step - loss: 0.0688 - acc: 0.9755 - val_loss: 0.7531 - val_acc: 0.7500\n",
      "Epoch 10/30\n",
      "100/100 [==============================] - 106s 1s/step - loss: 0.0662 - acc: 0.9735 - val_loss: 2.3450 - val_acc: 0.5000\n",
      "Epoch 11/30\n",
      "100/100 [==============================] - 109s 1s/step - loss: 0.0614 - acc: 0.9785 - val_loss: 1.7650 - val_acc: 0.5000\n",
      "Epoch 12/30\n",
      "100/100 [==============================] - 105s 1s/step - loss: 0.0551 - acc: 0.9795 - val_loss: 1.6962 - val_acc: 0.7500\n",
      "Epoch 13/30\n",
      "100/100 [==============================] - 96s 959ms/step - loss: 0.0564 - acc: 0.9755 - val_loss: 1.7128 - val_acc: 0.5000\n",
      "Epoch 14/30\n",
      "100/100 [==============================] - 96s 958ms/step - loss: 0.0388 - acc: 0.9860 - val_loss: 3.1891 - val_acc: 0.5000\n",
      "Epoch 15/30\n",
      "100/100 [==============================] - 94s 935ms/step - loss: 0.0434 - acc: 0.9820 - val_loss: 1.1318 - val_acc: 0.7500\n",
      "Epoch 16/30\n",
      "100/100 [==============================] - 93s 935ms/step - loss: 0.0328 - acc: 0.9879 - val_loss: 2.1819 - val_acc: 0.5000\n",
      "Epoch 17/30\n",
      "100/100 [==============================] - 95s 952ms/step - loss: 0.0276 - acc: 0.9899 - val_loss: 2.1066 - val_acc: 0.7500\n",
      "Epoch 18/30\n",
      "100/100 [==============================] - 93s 927ms/step - loss: 0.0347 - acc: 0.9895 - val_loss: 1.9789 - val_acc: 0.5000\n",
      "Epoch 19/30\n",
      "100/100 [==============================] - 95s 955ms/step - loss: 0.0262 - acc: 0.9910 - val_loss: 2.4281 - val_acc: 0.5000\n",
      "Epoch 20/30\n",
      "100/100 [==============================] - 92s 915ms/step - loss: 0.0220 - acc: 0.9925 - val_loss: 1.6577 - val_acc: 0.7500\n",
      "Epoch 21/30\n",
      "100/100 [==============================] - 92s 916ms/step - loss: 0.0214 - acc: 0.9935 - val_loss: 3.2713 - val_acc: 0.5000\n",
      "Epoch 22/30\n",
      "100/100 [==============================] - 91s 913ms/step - loss: 0.0187 - acc: 0.9905 - val_loss: 4.0449 - val_acc: 0.5000\n",
      "Epoch 23/30\n",
      "100/100 [==============================] - 91s 915ms/step - loss: 0.0241 - acc: 0.9925 - val_loss: 3.5891 - val_acc: 0.5000\n",
      "Epoch 24/30\n",
      "100/100 [==============================] - 93s 932ms/step - loss: 0.0157 - acc: 0.9939 - val_loss: 2.0244 - val_acc: 0.7500\n",
      "Epoch 25/30\n",
      "100/100 [==============================] - 97s 970ms/step - loss: 0.0146 - acc: 0.9960 - val_loss: 2.7053 - val_acc: 0.5000\n",
      "Epoch 26/30\n",
      "100/100 [==============================] - 106s 1s/step - loss: 0.0127 - acc: 0.9955 - val_loss: 3.0265 - val_acc: 0.7500\n",
      "Epoch 27/30\n",
      "100/100 [==============================] - 96s 960ms/step - loss: 0.0092 - acc: 0.9975 - val_loss: 2.7781 - val_acc: 0.7500\n",
      "Epoch 28/30\n",
      "100/100 [==============================] - 96s 956ms/step - loss: 0.0096 - acc: 0.9955 - val_loss: 2.5200 - val_acc: 0.7500\n",
      "Epoch 29/30\n",
      "100/100 [==============================] - 97s 966ms/step - loss: 0.0058 - acc: 0.9975 - val_loss: 2.8974 - val_acc: 0.7500\n",
      "Epoch 30/30\n",
      "100/100 [==============================] - 94s 942ms/step - loss: 0.0074 - acc: 0.9985 - val_loss: 3.6809 - val_acc: 0.5000\n"
     ]
    }
   ],
   "source": [
    "#Set the model to train; see warnings above\n",
    "results = model.fit_generator(\n",
    "          train_generator,\n",
    "          steps_per_epoch=100,\n",
    "          epochs=30,\n",
    "          validation_data=val_generator,\n",
    "          validation_steps=50)"
   ]
  },
  {
   "cell_type": "code",
   "execution_count": 19,
   "metadata": {},
   "outputs": [
    {
     "data": {
      "image/png": "[encoded data removed]",
      "text/plain": [
       "<Figure size 432x288 with 1 Axes>"
      ]
     },
     "metadata": {
      "needs_background": "light"
     },
     "output_type": "display_data"
    },
    {
     "data": {
      "image/png": "[encoded data removed]",
      "text/plain": [
       "<Figure size 432x288 with 1 Axes>"
      ]
     },
     "metadata": {
      "needs_background": "light"
     },
     "output_type": "display_data"
    }
   ],
   "source": [
    "# Plot history\n",
    "import matplotlib.pyplot as plt\n",
    "%matplotlib inline \n",
    "\n",
    "acc = results.history['acc']\n",
    "val_acc = results.history['val_acc']\n",
    "loss = results.history['loss']\n",
    "val_loss = results.history['val_loss']\n",
    "epochs = range(len(acc))\n",
    "plt.plot(epochs, acc, 'bo', label='Training acc')\n",
    "plt.plot(epochs, val_acc, 'b', label='Validation acc')\n",
    "plt.title('Training and validation accuracy')\n",
    "plt.legend()\n",
    "plt.figure()\n",
    "plt.plot(epochs, loss, 'bo', label='Training loss')\n",
    "plt.plot(epochs, val_loss, 'b', label='Validation loss')\n",
    "plt.title('Training and validation loss')\n",
    "plt.legend()\n",
    "plt.show()"
   ]
  },
  {
   "cell_type": "code",
   "execution_count": 20,
   "metadata": {},
   "outputs": [
    {
     "name": "stdout",
     "output_type": "stream",
     "text": [
      "Training took a total of 1:02:34.414121\n"
     ]
    }
   ],
   "source": [
    "end = datetime.datetime.now()\n",
    "elapsed = end - start\n",
    "print('Training took a total of {}'.format(elapsed))"
   ]
  },
  {
   "cell_type": "code",
   "execution_count": 21,
   "metadata": {},
   "outputs": [
    {
     "name": "stdout",
     "output_type": "stream",
     "text": [
      "test acc: 0.7678571408536253\n"
     ]
    }
   ],
   "source": [
    "test_loss, test_acc = model.evaluate_generator(test_generator, steps=50)\n",
    "print('test acc:', test_acc)"
   ]
  },
  {
   "cell_type": "markdown",
   "metadata": {},
   "source": [
    "## Save the Model"
   ]
  },
  {
   "cell_type": "code",
   "execution_count": 22,
   "metadata": {},
   "outputs": [],
   "source": [
    "#Your code here; save the model for future reference.\n",
    "model.save('chest_xray_downsampled_data.h5')"
   ]
  },
  {
   "cell_type": "markdown",
   "metadata": {},
   "source": [
    "## Data Augmentation\n",
    "\n",
    "Recall that data augmentation is typically always a necessary step when using a small dataset as this one which you have been provided. As such, if you haven't already, implement a data augmentation setup.\n",
    "\n",
    "**Warning: This process took nearly 4 hours to run on a relatively new macbook pro. As such, it is recommended that you simply code the setup and compare to the solution branch, or set the process to run overnight if you do choose to actually run the code.**"
   ]
  },
  {
   "cell_type": "code",
   "execution_count": 12,
   "metadata": {
    "scrolled": false
   },
   "outputs": [
    {
     "name": "stdout",
     "output_type": "stream",
     "text": [
      "Found 1738 images belonging to 2 classes.\n",
      "Found 4 images belonging to 2 classes.\n",
      "Epoch 1/100\n",
      "100/100 [==============================] - 252s 3s/step - loss: 11.9606 - acc: 0.2579 - val_loss: 0.7729 - val_acc: 0.5000\n",
      "Epoch 2/100\n",
      "100/100 [==============================] - 249s 2s/step - loss: 11.9766 - acc: 0.2569 - val_loss: 0.7729 - val_acc: 0.5000\n",
      "Epoch 3/100\n",
      "100/100 [==============================] - 231s 2s/step - loss: 11.9677 - acc: 0.2575 - val_loss: 0.7729 - val_acc: 0.5000\n",
      "Epoch 4/100\n",
      "100/100 [==============================] - 214s 2s/step - loss: 11.9395 - acc: 0.2592 - val_loss: 0.7729 - val_acc: 0.5000\n",
      "Epoch 5/100\n",
      "100/100 [==============================] - 213s 2s/step - loss: 12.0465 - acc: 0.2526 - val_loss: 0.7729 - val_acc: 0.5000\n",
      "Epoch 6/100\n",
      "100/100 [==============================] - 211s 2s/step - loss: 11.9997 - acc: 0.2555 - val_loss: 0.7729 - val_acc: 0.5000\n",
      "Epoch 7/100\n",
      "100/100 [==============================] - 217s 2s/step - loss: 11.8974 - acc: 0.2619 - val_loss: 0.7729 - val_acc: 0.5000\n",
      "Epoch 8/100\n",
      "100/100 [==============================] - 219s 2s/step - loss: 11.9768 - acc: 0.2569 - val_loss: 0.7729 - val_acc: 0.5000\n",
      "Epoch 9/100\n",
      "100/100 [==============================] - 224s 2s/step - loss: 11.9324 - acc: 0.2597 - val_loss: 0.7729 - val_acc: 0.5000\n",
      "Epoch 10/100\n",
      "100/100 [==============================] - 223s 2s/step - loss: 12.0483 - acc: 0.2525 - val_loss: 0.7729 - val_acc: 0.5000\n",
      "Epoch 11/100\n",
      "100/100 [==============================] - 224s 2s/step - loss: 11.9695 - acc: 0.2574 - val_loss: 0.7729 - val_acc: 0.5000\n",
      "Epoch 12/100\n",
      "100/100 [==============================] - 226s 2s/step - loss: 11.9686 - acc: 0.2574 - val_loss: 0.7729 - val_acc: 0.5000\n",
      "Epoch 13/100\n",
      "100/100 [==============================] - 223s 2s/step - loss: 11.9929 - acc: 0.2559 - val_loss: 0.7729 - val_acc: 0.5000\n",
      "Epoch 14/100\n",
      "100/100 [==============================] - 225s 2s/step - loss: 12.0261 - acc: 0.2539 - val_loss: 0.7729 - val_acc: 0.5000\n",
      "Epoch 15/100\n",
      "100/100 [==============================] - 224s 2s/step - loss: 11.9241 - acc: 0.2602 - val_loss: 0.7729 - val_acc: 0.5000\n",
      "Epoch 16/100\n",
      "100/100 [==============================] - 223s 2s/step - loss: 12.0171 - acc: 0.2544 - val_loss: 0.7729 - val_acc: 0.5000\n",
      "Epoch 17/100\n",
      "100/100 [==============================] - 223s 2s/step - loss: 11.9760 - acc: 0.2570 - val_loss: 0.7729 - val_acc: 0.5000\n",
      "Epoch 18/100\n",
      "100/100 [==============================] - 225s 2s/step - loss: 12.0560 - acc: 0.2520 - val_loss: 0.7729 - val_acc: 0.5000\n",
      "Epoch 19/100\n",
      "100/100 [==============================] - 226s 2s/step - loss: 11.8589 - acc: 0.2642 - val_loss: 0.7729 - val_acc: 0.5000\n",
      "Epoch 20/100\n",
      "100/100 [==============================] - 224s 2s/step - loss: 11.9777 - acc: 0.2569 - val_loss: 0.7729 - val_acc: 0.5000\n",
      "Epoch 21/100\n",
      "100/100 [==============================] - 224s 2s/step - loss: 12.0358 - acc: 0.2533 - val_loss: 0.7729 - val_acc: 0.5000\n",
      "Epoch 22/100\n",
      "100/100 [==============================] - 224s 2s/step - loss: 11.9914 - acc: 0.2560 - val_loss: 0.7729 - val_acc: 0.5000\n",
      "Epoch 23/100\n",
      "100/100 [==============================] - 225s 2s/step - loss: 11.9991 - acc: 0.2556 - val_loss: 0.7729 - val_acc: 0.5000\n",
      "Epoch 24/100\n",
      "100/100 [==============================] - 222s 2s/step - loss: 11.9857 - acc: 0.2564 - val_loss: 0.7729 - val_acc: 0.5000\n",
      "Epoch 25/100\n",
      "100/100 [==============================] - 224s 2s/step - loss: 11.9867 - acc: 0.2563 - val_loss: 0.7729 - val_acc: 0.5000\n",
      "Epoch 26/100\n",
      "100/100 [==============================] - 223s 2s/step - loss: 12.0044 - acc: 0.2552 - val_loss: 0.7729 - val_acc: 0.5000\n",
      "Epoch 27/100\n",
      "100/100 [==============================] - 225s 2s/step - loss: 12.0018 - acc: 0.2554 - val_loss: 0.7729 - val_acc: 0.5000\n",
      "Epoch 28/100\n",
      "100/100 [==============================] - 226s 2s/step - loss: 11.9274 - acc: 0.2600 - val_loss: 0.7729 - val_acc: 0.5000\n",
      "Epoch 29/100\n",
      "100/100 [==============================] - 227s 2s/step - loss: 11.8811 - acc: 0.2629 - val_loss: 0.7729 - val_acc: 0.5000\n",
      "Epoch 30/100\n",
      "100/100 [==============================] - 223s 2s/step - loss: 12.0598 - acc: 0.2518 - val_loss: 0.7729 - val_acc: 0.5000\n",
      "Epoch 31/100\n",
      "100/100 [==============================] - 227s 2s/step - loss: 11.8832 - acc: 0.2627 - val_loss: 0.7729 - val_acc: 0.5000\n",
      "Epoch 32/100\n",
      "100/100 [==============================] - 224s 2s/step - loss: 12.0020 - acc: 0.2554 - val_loss: 0.7729 - val_acc: 0.5000\n",
      "Epoch 33/100\n",
      "100/100 [==============================] - 224s 2s/step - loss: 11.9946 - acc: 0.2558 - val_loss: 0.7729 - val_acc: 0.5000\n",
      "Epoch 34/100\n",
      "100/100 [==============================] - 224s 2s/step - loss: 12.0056 - acc: 0.2551 - val_loss: 0.7729 - val_acc: 0.5000\n",
      "Epoch 35/100\n",
      "100/100 [==============================] - 225s 2s/step - loss: 11.9164 - acc: 0.2607 - val_loss: 0.7729 - val_acc: 0.5000\n",
      "Epoch 36/100\n",
      "100/100 [==============================] - 226s 2s/step - loss: 11.9899 - acc: 0.2561 - val_loss: 0.7729 - val_acc: 0.5000\n",
      "Epoch 37/100\n",
      "100/100 [==============================] - 225s 2s/step - loss: 12.0189 - acc: 0.2543 - val_loss: 0.7729 - val_acc: 0.5000\n",
      "Epoch 38/100\n",
      "100/100 [==============================] - 229s 2s/step - loss: 11.9232 - acc: 0.2603 - val_loss: 0.7729 - val_acc: 0.5000\n",
      "Epoch 39/100\n",
      "100/100 [==============================] - 224s 2s/step - loss: 12.0130 - acc: 0.2547 - val_loss: 0.7729 - val_acc: 0.5000\n",
      "Epoch 40/100\n",
      "100/100 [==============================] - 228s 2s/step - loss: 11.9899 - acc: 0.2561 - val_loss: 0.7729 - val_acc: 0.5000\n",
      "Epoch 41/100\n",
      "100/100 [==============================] - 224s 2s/step - loss: 11.9220 - acc: 0.2603 - val_loss: 0.7729 - val_acc: 0.5000\n",
      "Epoch 42/100\n",
      "100/100 [==============================] - 226s 2s/step - loss: 12.1158 - acc: 0.2483 - val_loss: 0.7729 - val_acc: 0.5000\n",
      "Epoch 43/100\n",
      "100/100 [==============================] - 223s 2s/step - loss: 11.8731 - acc: 0.2634 - val_loss: 0.7729 - val_acc: 0.5000\n",
      "Epoch 44/100\n",
      "100/100 [==============================] - 226s 2s/step - loss: 11.9908 - acc: 0.2561 - val_loss: 0.7729 - val_acc: 0.5000\n",
      "Epoch 45/100\n",
      "100/100 [==============================] - 229s 2s/step - loss: 11.9656 - acc: 0.2576 - val_loss: 0.7729 - val_acc: 0.5000\n",
      "Epoch 46/100\n",
      "100/100 [==============================] - 225s 2s/step - loss: 11.8956 - acc: 0.2620 - val_loss: 0.7729 - val_acc: 0.5000\n",
      "Epoch 47/100\n",
      "100/100 [==============================] - 228s 2s/step - loss: 11.9849 - acc: 0.2564 - val_loss: 0.7729 - val_acc: 0.5000\n",
      "Epoch 48/100\n",
      "100/100 [==============================] - 224s 2s/step - loss: 12.0130 - acc: 0.2547 - val_loss: 0.7729 - val_acc: 0.5000\n",
      "Epoch 49/100\n",
      "100/100 [==============================] - 226s 2s/step - loss: 11.9223 - acc: 0.2603 - val_loss: 0.7729 - val_acc: 0.5000\n",
      "Epoch 50/100\n",
      "100/100 [==============================] - 225s 2s/step - loss: 11.9860 - acc: 0.2564 - val_loss: 0.7729 - val_acc: 0.5000\n",
      "Epoch 51/100\n",
      "100/100 [==============================] - 229s 2s/step - loss: 11.9917 - acc: 0.2560 - val_loss: 0.7729 - val_acc: 0.5000\n",
      "Epoch 52/100\n",
      "100/100 [==============================] - 222s 2s/step - loss: 12.1117 - acc: 0.2486 - val_loss: 0.7729 - val_acc: 0.5000\n",
      "Epoch 53/100\n",
      "100/100 [==============================] - 227s 2s/step - loss: 11.8518 - acc: 0.2647 - val_loss: 0.7729 - val_acc: 0.5000\n",
      "Epoch 54/100\n",
      "100/100 [==============================] - 227s 2s/step - loss: 11.9194 - acc: 0.2605 - val_loss: 0.7729 - val_acc: 0.5000\n",
      "Epoch 55/100\n",
      "100/100 [==============================] - 225s 2s/step - loss: 11.9961 - acc: 0.2557 - val_loss: 0.7729 - val_acc: 0.5000\n",
      "Epoch 56/100\n",
      "100/100 [==============================] - 224s 2s/step - loss: 11.9878 - acc: 0.2563 - val_loss: 0.7729 - val_acc: 0.5000\n",
      "Epoch 57/100\n",
      "100/100 [==============================] - 225s 2s/step - loss: 11.9223 - acc: 0.2603 - val_loss: 0.7729 - val_acc: 0.5000\n",
      "Epoch 58/100\n",
      "100/100 [==============================] - 223s 2s/step - loss: 12.0753 - acc: 0.2508 - val_loss: 0.7729 - val_acc: 0.5000\n",
      "Epoch 59/100\n",
      "100/100 [==============================] - 226s 2s/step - loss: 11.8832 - acc: 0.2627 - val_loss: 0.7729 - val_acc: 0.5000\n",
      "Epoch 60/100\n",
      "100/100 [==============================] - 223s 2s/step - loss: 11.9931 - acc: 0.2559 - val_loss: 0.7729 - val_acc: 0.5000\n"
     ]
    },
    {
     "name": "stdout",
     "output_type": "stream",
     "text": [
      "Epoch 61/100\n",
      "100/100 [==============================] - 229s 2s/step - loss: 11.9606 - acc: 0.2579 - val_loss: 0.7729 - val_acc: 0.5000\n",
      "Epoch 62/100\n",
      "100/100 [==============================] - 228s 2s/step - loss: 12.0009 - acc: 0.2554 - val_loss: 0.7729 - val_acc: 0.5000\n",
      "Epoch 63/100\n",
      "100/100 [==============================] - 224s 2s/step - loss: 11.8411 - acc: 0.2654 - val_loss: 0.7729 - val_acc: 0.5000\n",
      "Epoch 64/100\n",
      "100/100 [==============================] - 222s 2s/step - loss: 12.0986 - acc: 0.2494 - val_loss: 0.7729 - val_acc: 0.5000\n",
      "Epoch 65/100\n",
      "100/100 [==============================] - 226s 2s/step - loss: 11.9446 - acc: 0.2589 - val_loss: 0.7729 - val_acc: 0.5000\n",
      "Epoch 66/100\n",
      "100/100 [==============================] - 227s 2s/step - loss: 11.9526 - acc: 0.2584 - val_loss: 0.7729 - val_acc: 0.5000\n",
      "Epoch 67/100\n",
      "100/100 [==============================] - 224s 2s/step - loss: 11.9045 - acc: 0.2614 - val_loss: 0.7729 - val_acc: 0.5000\n",
      "Epoch 68/100\n",
      "100/100 [==============================] - 225s 2s/step - loss: 11.9297 - acc: 0.2599 - val_loss: 0.7729 - val_acc: 0.5000\n",
      "Epoch 69/100\n",
      "100/100 [==============================] - 225s 2s/step - loss: 12.0171 - acc: 0.2544 - val_loss: 0.7729 - val_acc: 0.5000\n",
      "Epoch 70/100\n",
      "100/100 [==============================] - 226s 2s/step - loss: 11.9537 - acc: 0.2584 - val_loss: 0.7729 - val_acc: 0.5000\n",
      "Epoch 71/100\n",
      "100/100 [==============================] - 225s 2s/step - loss: 12.0139 - acc: 0.2546 - val_loss: 0.7729 - val_acc: 0.5000\n",
      "Epoch 72/100\n",
      "100/100 [==============================] - 224s 2s/step - loss: 11.9383 - acc: 0.2593 - val_loss: 0.7729 - val_acc: 0.5000\n",
      "Epoch 73/100\n",
      "100/100 [==============================] - 227s 2s/step - loss: 11.9585 - acc: 0.2581 - val_loss: 0.7729 - val_acc: 0.5000\n",
      "Epoch 74/100\n",
      "100/100 [==============================] - 224s 2s/step - loss: 11.9576 - acc: 0.2581 - val_loss: 0.7729 - val_acc: 0.5000\n",
      "Epoch 75/100\n",
      "100/100 [==============================] - 225s 2s/step - loss: 11.9831 - acc: 0.2565 - val_loss: 0.7729 - val_acc: 0.5000\n",
      "Epoch 76/100\n",
      "100/100 [==============================] - 226s 2s/step - loss: 12.0616 - acc: 0.2517 - val_loss: 0.7729 - val_acc: 0.5000\n",
      "Epoch 77/100\n",
      "100/100 [==============================] - 225s 2s/step - loss: 11.8871 - acc: 0.2625 - val_loss: 0.7729 - val_acc: 0.5000\n",
      "Epoch 78/100\n",
      "100/100 [==============================] - 224s 2s/step - loss: 12.0139 - acc: 0.2546 - val_loss: 0.7729 - val_acc: 0.5000\n",
      "Epoch 79/100\n",
      "100/100 [==============================] - 225s 2s/step - loss: 11.9686 - acc: 0.2574 - val_loss: 0.7729 - val_acc: 0.5000\n",
      "Epoch 80/100\n",
      "100/100 [==============================] - 228s 2s/step - loss: 11.9368 - acc: 0.2594 - val_loss: 0.7729 - val_acc: 0.5000\n",
      "Epoch 81/100\n",
      "100/100 [==============================] - 223s 2s/step - loss: 11.8942 - acc: 0.2621 - val_loss: 0.7729 - val_acc: 0.5000\n",
      "Epoch 82/100\n",
      "100/100 [==============================] - 223s 2s/step - loss: 12.0258 - acc: 0.2539 - val_loss: 0.7729 - val_acc: 0.5000\n",
      "Epoch 83/100\n",
      "100/100 [==============================] - 225s 2s/step - loss: 12.0252 - acc: 0.2539 - val_loss: 0.7729 - val_acc: 0.5000\n",
      "Epoch 84/100\n",
      "100/100 [==============================] - 227s 2s/step - loss: 12.0480 - acc: 0.2525 - val_loss: 0.7729 - val_acc: 0.5000\n",
      "Epoch 85/100\n",
      "100/100 [==============================] - 223s 2s/step - loss: 11.9161 - acc: 0.2607 - val_loss: 0.7729 - val_acc: 0.5000\n",
      "Epoch 86/100\n",
      "100/100 [==============================] - 224s 2s/step - loss: 11.9896 - acc: 0.2561 - val_loss: 0.7729 - val_acc: 0.5000\n",
      "Epoch 87/100\n",
      "100/100 [==============================] - 225s 2s/step - loss: 11.9807 - acc: 0.2567 - val_loss: 0.7729 - val_acc: 0.5000\n",
      "Epoch 88/100\n",
      "100/100 [==============================] - 225s 2s/step - loss: 11.9819 - acc: 0.2566 - val_loss: 0.7729 - val_acc: 0.5000\n",
      "Epoch 89/100\n",
      "100/100 [==============================] - 225s 2s/step - loss: 12.0169 - acc: 0.2544 - val_loss: 0.7729 - val_acc: 0.5000\n",
      "Epoch 90/100\n",
      "100/100 [==============================] - 225s 2s/step - loss: 11.9443 - acc: 0.2590 - val_loss: 0.7729 - val_acc: 0.5000\n",
      "Epoch 91/100\n",
      "100/100 [==============================] - 222s 2s/step - loss: 12.0086 - acc: 0.2550 - val_loss: 0.7729 - val_acc: 0.5000\n",
      "Epoch 92/100\n",
      "100/100 [==============================] - 223s 2s/step - loss: 11.9920 - acc: 0.2560 - val_loss: 0.7729 - val_acc: 0.5000\n",
      "Epoch 93/100\n",
      "100/100 [==============================] - 226s 2s/step - loss: 11.9615 - acc: 0.2579 - val_loss: 0.7729 - val_acc: 0.5000\n",
      "Epoch 94/100\n",
      "100/100 [==============================] - 223s 2s/step - loss: 11.9993 - acc: 0.2555 - val_loss: 0.7729 - val_acc: 0.5000\n",
      "Epoch 95/100\n",
      "100/100 [==============================] - 226s 2s/step - loss: 11.9081 - acc: 0.2612 - val_loss: 0.7729 - val_acc: 0.5000\n",
      "Epoch 96/100\n",
      "100/100 [==============================] - 224s 2s/step - loss: 11.9745 - acc: 0.2571 - val_loss: 0.7729 - val_acc: 0.5000\n",
      "Epoch 97/100\n",
      "100/100 [==============================] - 224s 2s/step - loss: 12.0986 - acc: 0.2494 - val_loss: 0.7729 - val_acc: 0.5000\n",
      "Epoch 98/100\n",
      "100/100 [==============================] - 225s 2s/step - loss: 11.9395 - acc: 0.2592 - val_loss: 0.7729 - val_acc: 0.5000\n",
      "Epoch 99/100\n",
      "100/100 [==============================] - 225s 2s/step - loss: 11.9594 - acc: 0.2580 - val_loss: 0.7729 - val_acc: 0.5000\n",
      "Epoch 100/100\n",
      "100/100 [==============================] - 224s 2s/step - loss: 11.9196 - acc: 0.2605 - val_loss: 0.7729 - val_acc: 0.5000\n",
      "Training with data augmentation took a total of 6:15:02.727046\n"
     ]
    }
   ],
   "source": [
    "#Add data augmentation to the model setup and set the model to train; \n",
    "#See warnings above if you intend to run this block of code\n",
    "\n",
    "start = datetime.datetime.now()\n",
    "\n",
    "train_datagen = ImageDataGenerator(\n",
    "      rotation_range=40,\n",
    "      width_shift_range=0.2,\n",
    "      height_shift_range=0.2,\n",
    "      shear_range=0.2,\n",
    "      zoom_range=0.2,\n",
    "      horizontal_flip=True,\n",
    "      fill_mode='nearest')\n",
    "\n",
    "val_datagen = ImageDataGenerator(rescale=1./255)\n",
    "\n",
    "train_generator = train_datagen.flow_from_directory(\n",
    "        # This is the target directory\n",
    "        train_data_dir,\n",
    "        # All images will be resized to 150x150\n",
    "        target_size=(150, 150),\n",
    "        batch_size=32,\n",
    "        # Since we use binary_crossentropy loss, we need binary labels\n",
    "        class_mode='binary')\n",
    "\n",
    "validation_generator = val_datagen.flow_from_directory(\n",
    "        val_data_dir,\n",
    "        target_size=(150, 150),\n",
    "        batch_size=32,\n",
    "        class_mode='binary')\n",
    "\n",
    "results = model.fit_generator(\n",
    "      train_generator,\n",
    "      steps_per_epoch=100,\n",
    "      epochs=100,\n",
    "      validation_data=validation_generator,\n",
    "      validation_steps=50)\n",
    "\n",
    "end = datetime.datetime.now()\n",
    "elapsed = end - start\n",
    "print('Training with data augmentation took a total of {}'.format(elapsed))"
   ]
  },
  {
   "cell_type": "code",
   "execution_count": 15,
   "metadata": {},
   "outputs": [
    {
     "data": {
      "image/png": "[encoded data removed]",
      "text/plain": [
       "<Figure size 432x288 with 1 Axes>"
      ]
     },
     "metadata": {
      "needs_background": "light"
     },
     "output_type": "display_data"
    },
    {
     "data": {
      "image/png": "[encoded data removed]",
      "text/plain": [
       "<Figure size 432x288 with 1 Axes>"
      ]
     },
     "metadata": {
      "needs_background": "light"
     },
     "output_type": "display_data"
    }
   ],
   "source": [
    "# Your code here; perform a final evaluation using the test set..\n",
    "acc = results.history['acc']\n",
    "val_acc = results.history['val_acc']\n",
    "loss = results.history['loss']\n",
    "val_loss = results.history['val_loss']\n",
    "epochs = range(len(acc))\n",
    "plt.plot(epochs, acc, 'bo', label='Training acc')\n",
    "plt.plot(epochs, val_acc, 'b', label='Validation acc')\n",
    "plt.title('Training and validation accuracy')\n",
    "plt.legend()\n",
    "plt.figure()\n",
    "plt.plot(epochs, loss, 'bo', label='Training loss')\n",
    "plt.plot(epochs, val_loss, 'b', label='Validation loss')\n",
    "plt.title('Training and validation loss')\n",
    "plt.legend()\n",
    "plt.show()"
   ]
  },
  {
   "cell_type": "code",
   "execution_count": 16,
   "metadata": {},
   "outputs": [],
   "source": [
    "model.save('chest_xray_downsampled_with_augmentation_data.h5')"
   ]
  },
  {
   "cell_type": "markdown",
   "metadata": {},
   "source": [
    "## Final Evaluation\n",
    "\n",
    "Now use the test set to perform a final evaluation on your model of choice."
   ]
  },
  {
   "cell_type": "code",
   "execution_count": 17,
   "metadata": {},
   "outputs": [
    {
     "name": "stdout",
     "output_type": "stream",
     "text": [
      "Found 208 images belonging to 2 classes.\n",
      "test acc: 0.37289915828644726\n"
     ]
    }
   ],
   "source": [
    "test_generator = test_datagen.flow_from_directory(\n",
    "        test_data_dir,\n",
    "        target_size=(150, 150),\n",
    "        batch_size=20,\n",
    "        class_mode='binary')\n",
    "\n",
    "test_loss, test_acc = model.evaluate_generator(test_generator, steps=50)\n",
    "print('test acc:', test_acc)"
   ]
  },
  {
   "cell_type": "markdown",
   "metadata": {},
   "source": [
    "## Extension: Adding Data to the Model\n",
    "\n",
    "As discussed, the current dataset we worked with is a subset of a dataset hosted on Kaggle. Increasing the data that we use to train the model will result in additional performance gains but will also result in longer training times and be more resource intensive.   \n",
    "\n",
    "It is estimated that training on the full dataset will take approximately 4 hours (and potentially significantly longer) depending on your computer's specifications.\n",
    "\n",
    "In order to test the impact of training on the full dataset, start by downloading the data from kaggle here: https://www.kaggle.com/paultimothymooney/chest-xray-pneumonia.   "
   ]
  },
  {
   "cell_type": "code",
   "execution_count": null,
   "metadata": {},
   "outputs": [],
   "source": [
    "#Optional extension; Your code here"
   ]
  },
  {
   "cell_type": "markdown",
   "metadata": {},
   "source": [
    "## Summary\n",
    "\n",
    "Well done! In this lab, you practice building your own CNN for image recognition which drastically outperformed our previous attempts using a standard deep learning model alone. In the upcoming sections, we'll continue to investigate further techniques associated with CNNs including visualizing the representations they learn and techniques to further bolster their performance when we have limited training data such as here."
   ]
  }
 ],
 "metadata": {
  "kernelspec": {
   "display_name": "Python 3",
   "language": "python",
   "name": "python3"
  },
  "language_info": {
   "codemirror_mode": {
    "name": "ipython",
    "version": 3
   },
   "file_extension": ".py",
   "mimetype": "text/x-python",
   "name": "python",
   "nbconvert_exporter": "python",
   "pygments_lexer": "ipython3",
   "version": "3.6.6"
  }
 },
 "nbformat": 4,
 "nbformat_minor": 2
}
